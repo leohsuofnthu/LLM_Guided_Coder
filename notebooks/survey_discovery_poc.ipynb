{
 "cells": [
  {
   "cell_type": "markdown",
   "metadata": {},
   "source": [
    "# Survey Topic Discovery Pipeline Proof of Concept\n",
    "\n",
    "This notebook demonstrates how to run the modular pipeline and inspect intermediate artifacts.\n",
    "\n",
    "```python\n",
    "from src import SurveyTopicPipeline, load_config\n",
    "\n",
    "config = load_config(\"config.yaml\")  # optional override\n",
    "pipeline = SurveyTopicPipeline(config)\n",
    "stats = pipeline.run(\"data/responses.csv\")\n",
    "stats\n",
    "```\n",
    "\n",
    "Inspect generated files under `data/` for segments, embeddings, clusters, and coding outputs."
   ]
  }
 ],
 "metadata": {
  "kernelspec": {
   "display_name": "Python 3",
   "language": "python",
   "name": "python3"
  },
  "language_info": {
   "name": "python",
   "version": ""
  }
 },
 "nbformat": 4,
 "nbformat_minor": 5
}
